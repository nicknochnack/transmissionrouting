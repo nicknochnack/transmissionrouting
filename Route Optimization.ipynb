{
 "cells": [
  {
   "cell_type": "markdown",
   "metadata": {},
   "source": [
    "# Source Data from PA"
   ]
  },
  {
   "cell_type": "code",
   "execution_count": 37,
   "metadata": {},
   "outputs": [],
   "source": [
    "from TM1py.Services import TM1Service\n",
    "from TM1py.Utils.Utils import element_names_from_element_unique_names, build_pandas_dataframe_from_cellset\n",
    "from creds import tm1_credentials\n",
    "\n",
    "with TM1Service(address=tm1_credentials[\"address\"], port=tm1_credentials[\"port\"], user=tm1_credentials[\"user\"], password=tm1_credentials[\"password\"], ssl=tm1_credentials[\"ssl\"]) as tm1:\n",
    "    data = tm1.cubes.cells.execute_view(cube_name='DMD Grid Planning', view_name='Default', private=False)\n",
    "    allocation = build_pandas_dataframe_from_cellset(data, multiindex=False)\n",
    "    data = tm1.cubes.cells.execute_view(cube_name='DMD Customer Demand', view_name='Default', private=False)\n",
    "    customer = build_pandas_dataframe_from_cellset(data, multiindex=False)\n",
    "    data = tm1.cubes.cells.execute_view(cube_name='DMD Transmission Capacity', view_name='Default', private=False)\n",
    "    distribution = build_pandas_dataframe_from_cellset(data, multiindex=False)\n",
    "    data = tm1.cubes.cells.execute_view(cube_name='}ElementAttributes_DMD Transmission Route', view_name='[Python] Route Optimization', private=False)\n",
    "    distributionlocation = build_pandas_dataframe_from_cellset(data, multiindex=False)\n",
    "    data = tm1.cubes.cells.execute_view(cube_name='}ElementAttributes_Customer', view_name='[Python] Route Optimization', private=False)\n",
    "    customerlocation = build_pandas_dataframe_from_cellset(data, multiindex=False)"
   ]
  },
  {
   "cell_type": "code",
   "execution_count": 38,
   "metadata": {},
   "outputs": [],
   "source": [
    "distributionlocation.set_index('DMD Transmission Route', inplace=True)\n",
    "customerlocation.set_index('Customer', inplace=True)\n",
    "customer.set_index('Customer', inplace=True)\n",
    "distribution.set_index('DMD Transmission Route', inplace=True)"
   ]
  },
  {
   "cell_type": "markdown",
   "metadata": {},
   "source": [
    "# Distance Calculation"
   ]
  },
  {
   "cell_type": "code",
   "execution_count": 39,
   "metadata": {},
   "outputs": [],
   "source": [
    "allocation['Customer-Coords'] = allocation['Customer'].apply(lambda x: [float(coord) for coord in customerlocation.loc[x]['Values'].strip('(),').split(',')])\n",
    "allocation['Distribution-Coords'] = allocation['DMD Transmission Route'].apply(lambda x: [float(coord) for coord in distributionlocation.loc[x]['Values'].strip('(),').split(',')])"
   ]
  },
  {
   "cell_type": "code",
   "execution_count": 40,
   "metadata": {},
   "outputs": [],
   "source": [
    "from geopy.distance import geodesic"
   ]
  },
  {
   "cell_type": "code",
   "execution_count": 41,
   "metadata": {},
   "outputs": [],
   "source": [
    "for index, row in allocation.iterrows():\n",
    "    allocation.loc[index, 'Distance Difference'] = round(geodesic(row['Customer-Coords'], row['Distribution-Coords']).km,0)"
   ]
  },
  {
   "cell_type": "markdown",
   "metadata": {},
   "source": [
    "# Create Indicies"
   ]
  },
  {
   "cell_type": "code",
   "execution_count": 42,
   "metadata": {},
   "outputs": [],
   "source": [
    "allocation.set_index(['Customer', 'DMD Transmission Route', 'Time Date', 'Version'], inplace=True)\n",
    "customer.reset_index(inplace=True)\n",
    "customer.set_index(['Customer', 'Time Date', 'Version'], inplace=True)\n",
    "distribution.reset_index(inplace=True)\n",
    "distribution.set_index(['DMD Transmission Route', 'Time Date', 'Version'], inplace=True)"
   ]
  },
  {
   "cell_type": "markdown",
   "metadata": {},
   "source": [
    "# Prepare Model"
   ]
  },
  {
   "cell_type": "code",
   "execution_count": 43,
   "metadata": {},
   "outputs": [],
   "source": [
    "from docplex.mp.model import Model"
   ]
  },
  {
   "cell_type": "code",
   "execution_count": 44,
   "metadata": {},
   "outputs": [],
   "source": [
    "# Model\n",
    "mdl = Model(name='GTEng')"
   ]
  },
  {
   "cell_type": "code",
   "execution_count": 45,
   "metadata": {},
   "outputs": [],
   "source": [
    "allocvars = mdl.continuous_var_dict(allocation.index)"
   ]
  },
  {
   "cell_type": "code",
   "execution_count": 46,
   "metadata": {},
   "outputs": [],
   "source": [
    "for customer_key in customer.index.unique():\n",
    "    mdl.add_constraint(mdl.sum(allocvars[allocvar] for allocvar in allocvars.keys() if (allocvar[0], allocvar[2], allocvar[3]) == customer_key) >= customer.loc[customer_key]['Values'])"
   ]
  },
  {
   "cell_type": "code",
   "execution_count": 47,
   "metadata": {},
   "outputs": [],
   "source": [
    "for dist_key in distribution.index.unique():\n",
    "    mdl.add_constraint(mdl.sum(allocvars[allocvar] for allocvar in allocvars.keys() if (allocvar[1], allocvar[2], allocvar[3]) == dist_key) <= distribution.loc[dist_key]['Values'])"
   ]
  },
  {
   "cell_type": "markdown",
   "metadata": {},
   "source": [
    "# Solve Problem"
   ]
  },
  {
   "cell_type": "code",
   "execution_count": 48,
   "metadata": {},
   "outputs": [],
   "source": [
    "# Minimize cost\n",
    "obj = mdl.sum(val*allocation.loc[combo]['Distance Difference'] for combo, val in allocvars.items())\n",
    "mdl.minimize(obj)"
   ]
  },
  {
   "cell_type": "code",
   "execution_count": 49,
   "metadata": {},
   "outputs": [],
   "source": [
    "# Solve\n",
    "ok = mdl.solve()"
   ]
  },
  {
   "cell_type": "code",
   "execution_count": 50,
   "metadata": {},
   "outputs": [],
   "source": [
    "results = ok.get_value_dict(allocvars)"
   ]
  },
  {
   "cell_type": "markdown",
   "metadata": {},
   "source": [
    "# Push Data Back to PA"
   ]
  },
  {
   "cell_type": "code",
   "execution_count": 51,
   "metadata": {},
   "outputs": [],
   "source": [
    "cellset = {(key[2], key[3], key[0], key[1], 'Base', 'Amount'):value for key,value in results.items()}"
   ]
  },
  {
   "cell_type": "code",
   "execution_count": 52,
   "metadata": {},
   "outputs": [],
   "source": [
    "with TM1Service(address=tm1_credentials[\"address\"], port=tm1_credentials[\"port\"], user=tm1_credentials[\"user\"], password=tm1_credentials[\"password\"], ssl=tm1_credentials[\"ssl\"]) as tm1:\n",
    "    tm1.cubes.cells.write_values('DMD Grid Planning', cellset, dimensions=['Time Date', 'Version', 'Customer', 'DMD Transmission Route', 'DMD Grid Planning Source', 'DMD Grid Planning Measure'])"
   ]
  }
 ],
 "metadata": {
  "kernelspec": {
   "display_name": "Python 3",
   "language": "python",
   "name": "python3"
  },
  "language_info": {
   "codemirror_mode": {
    "name": "ipython",
    "version": 3
   },
   "file_extension": ".py",
   "mimetype": "text/x-python",
   "name": "python",
   "nbconvert_exporter": "python",
   "pygments_lexer": "ipython3",
   "version": "3.7.4"
  }
 },
 "nbformat": 4,
 "nbformat_minor": 2
}
